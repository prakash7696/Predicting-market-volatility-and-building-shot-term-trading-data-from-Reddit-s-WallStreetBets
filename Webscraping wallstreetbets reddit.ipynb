{
 "cells": [
  {
   "cell_type": "code",
   "execution_count": 1,
   "id": "0cf98c8f",
   "metadata": {},
   "outputs": [],
   "source": [
    "from selenium import webdriver as wb\n",
    "from selenium.webdriver.support.ui import WebDriverWait\n",
    "from selenium.webdriver.common.by import By\n",
    "from selenium.webdriver.support import expected_conditions as EC\n",
    "from time import sleep\n",
    "import time"
   ]
  },
  {
   "cell_type": "code",
   "execution_count": 2,
   "id": "7607f866",
   "metadata": {},
   "outputs": [],
   "source": [
    "url = 'https://www.reddit.com/r/wallstreetbets/?f=flair_name%3A%22Discussion%22'"
   ]
  },
  {
   "cell_type": "code",
   "execution_count": 3,
   "id": "96674ae0",
   "metadata": {},
   "outputs": [
    {
     "name": "stdout",
     "output_type": "stream",
     "text": [
      "['Tipping point of a bull market or the next collapse?', 'Can someone explain this to me about Ameritrade?', 'Puts on GOOG after MSFT takes over their search monopoly?', 'All these recent comparisons to historic charts and other data on recessions and crashes - something more puzzling sticks out to me…', 'EU energy gem for those playing also outside from US. Let’s discuss it.', 'Bankrupt Companies', 'Start of the soft landing?', 'Tax offset on paid dividends', \"What TLT Won't Do – Probably\", 'What are your opinions on whether the US will have a recession or not?', 'What Happens From Here?', \"Wendy's Earnings\", 'His or her', 'Dicks Sporting Goods Earning report on 3/6/23', 'Housing Price Go Up Long Term (30+ years) - This Time is NOT Different.', 'A query regarding East Asian stock markets.', 'Well, at least 2022 was good to someone: Chief Executive Officer Steve Schwarzman took home a record $1.27 billion for 2022', 'Bing vs chrome', 'Big Money Trying to Suppress $BABA Despite Turnaround and Solid Earnings Beat', '2-24-23 Inflation Commentary', '', '', '', '', '']\n"
     ]
    }
   ],
   "source": [
    "browser = wb.Chrome()\n",
    "browser.get(url)\n",
    "browser.maximize_window()\n",
    "head_one = browser.find_elements(By.TAG_NAME, 'h3')\n",
    "title_one = []\n",
    "for i in range(len(head_one)):\n",
    "     title_one.append(head_one[i].text)\n",
    "print(title_one)"
   ]
  },
  {
   "cell_type": "code",
   "execution_count": 20,
   "id": "1807b969",
   "metadata": {},
   "outputs": [
    {
     "data": {
      "text/plain": [
       "['Tipping point of a bull market or the next collapse?',\n",
       " 'Can someone explain this to me about Ameritrade?',\n",
       " 'Puts on GOOG after MSFT takes over their search monopoly?',\n",
       " 'All these recent comparisons to historic charts and other data on recessions and crashes - something more puzzling sticks out to me…',\n",
       " 'EU energy gem for those playing also outside from US. Let’s discuss it.',\n",
       " 'Bankrupt Companies',\n",
       " 'Start of the soft landing?',\n",
       " 'Tax offset on paid dividends',\n",
       " \"What TLT Won't Do – Probably\",\n",
       " 'What are your opinions on whether the US will have a recession or not?',\n",
       " 'What Happens From Here?',\n",
       " \"Wendy's Earnings\",\n",
       " 'His or her',\n",
       " 'Dicks Sporting Goods Earning report on 3/6/23',\n",
       " 'Housing Price Go Up Long Term (30+ years) - This Time is NOT Different.',\n",
       " 'A query regarding East Asian stock markets.',\n",
       " 'Well, at least 2022 was good to someone: Chief Executive Officer Steve Schwarzman took home a record $1.27 billion for 2022',\n",
       " 'Bing vs chrome',\n",
       " 'Big Money Trying to Suppress $BABA Despite Turnaround and Solid Earnings Beat',\n",
       " '2-24-23 Inflation Commentary']"
      ]
     },
     "execution_count": 20,
     "metadata": {},
     "output_type": "execute_result"
    }
   ],
   "source": [
    "#filter empty list\n",
    "title_one = list(filter(None, title_one))\n",
    "title_one"
   ]
  },
  {
   "cell_type": "code",
   "execution_count": 4,
   "id": "932eb928",
   "metadata": {},
   "outputs": [
    {
     "name": "stdout",
     "output_type": "stream",
     "text": [
      "['', '', 'Puts on GOOG after MSFT takes over their search monopoly?', 'All these recent comparisons to historic charts and other data on recessions and crashes - something more puzzling sticks out to me…', 'EU energy gem for those playing also outside from US. Let’s discuss it.', 'Bankrupt Companies', 'Start of the soft landing?', 'Tax offset on paid dividends', \"What TLT Won't Do – Probably\", 'What are your opinions on whether the US will have a recession or not?', 'What Happens From Here?', \"Wendy's Earnings\", 'His or her', 'Dicks Sporting Goods Earning report on 3/6/23', 'Housing Price Go Up Long Term (30+ years) - This Time is NOT Different.', 'A query regarding East Asian stock markets.', 'Well, at least 2022 was good to someone: Chief Executive Officer Steve Schwarzman took home a record $1.27 billion for 2022', 'Bing vs chrome', 'Big Money Trying to Suppress $BABA Despite Turnaround and Solid Earnings Beat', '2-24-23 Inflation Commentary', 'Cathie Wood Continues Coinbase Buying', 'Any good European indexs I can use to follow the EUs financial status?', 'Best online broker when I buy shares, to have them in my name!', 'Q3-Q4 Blood Bath? How to play stock Armageddon?', 'Fed Terminal Rate']\n"
     ]
    }
   ],
   "source": [
    "browser = wb.Chrome()\n",
    "browser.get(url)\n",
    "browser.maximize_window()\n",
    "head_two = browser.find_elements(By.TAG_NAME, 'h3')\n",
    "browser.execute_script(\"window.scrollTo(0, document.body.scrollHeight);\")\n",
    "title_two = []\n",
    "for i in range(len(head_two)):\n",
    "     title_two.append(head_two[i].text)\n",
    "print(title_two)"
   ]
  },
  {
   "cell_type": "code",
   "execution_count": 21,
   "id": "8ec0f6a2",
   "metadata": {},
   "outputs": [
    {
     "data": {
      "text/plain": [
       "['Puts on GOOG after MSFT takes over their search monopoly?',\n",
       " 'All these recent comparisons to historic charts and other data on recessions and crashes - something more puzzling sticks out to me…',\n",
       " 'EU energy gem for those playing also outside from US. Let’s discuss it.',\n",
       " 'Bankrupt Companies',\n",
       " 'Start of the soft landing?',\n",
       " 'Tax offset on paid dividends',\n",
       " \"What TLT Won't Do – Probably\",\n",
       " 'What are your opinions on whether the US will have a recession or not?',\n",
       " 'What Happens From Here?',\n",
       " \"Wendy's Earnings\",\n",
       " 'His or her',\n",
       " 'Dicks Sporting Goods Earning report on 3/6/23',\n",
       " 'Housing Price Go Up Long Term (30+ years) - This Time is NOT Different.',\n",
       " 'A query regarding East Asian stock markets.',\n",
       " 'Well, at least 2022 was good to someone: Chief Executive Officer Steve Schwarzman took home a record $1.27 billion for 2022',\n",
       " 'Bing vs chrome',\n",
       " 'Big Money Trying to Suppress $BABA Despite Turnaround and Solid Earnings Beat',\n",
       " '2-24-23 Inflation Commentary',\n",
       " 'Cathie Wood Continues Coinbase Buying',\n",
       " 'Any good European indexs I can use to follow the EUs financial status?',\n",
       " 'Best online broker when I buy shares, to have them in my name!',\n",
       " 'Q3-Q4 Blood Bath? How to play stock Armageddon?',\n",
       " 'Fed Terminal Rate']"
      ]
     },
     "execution_count": 21,
     "metadata": {},
     "output_type": "execute_result"
    }
   ],
   "source": [
    "#filter empty list\n",
    "title_two = list(filter(None, title_two))\n",
    "title_two"
   ]
  },
  {
   "cell_type": "code",
   "execution_count": null,
   "id": "d57ea179",
   "metadata": {},
   "outputs": [],
   "source": [
    "#one = len(head_one)\n",
    "#print(one)"
   ]
  },
  {
   "cell_type": "code",
   "execution_count": 5,
   "id": "3c7fcf90",
   "metadata": {},
   "outputs": [
    {
     "name": "stdout",
     "output_type": "stream",
     "text": [
      "['Tipping point of a bull market or the next collapse?', 'Can someone explain this to me about Ameritrade?', 'Puts on GOOG after MSFT takes over their search monopoly?', 'All these recent comparisons to historic charts and other data on recessions and crashes - something more puzzling sticks out to me…', 'EU energy gem for those playing also outside from US. Let’s discuss it.', 'Bankrupt Companies', 'Start of the soft landing?', 'Tax offset on paid dividends', \"What TLT Won't Do – Probably\", 'What are your opinions on whether the US will have a recession or not?', 'What Happens From Here?', \"Wendy's Earnings\", 'His or her', 'Dicks Sporting Goods Earning report on 3/6/23', 'Housing Price Go Up Long Term (30+ years) - This Time is NOT Different.', 'A query regarding East Asian stock markets.', 'Well, at least 2022 was good to someone: Chief Executive Officer Steve Schwarzman took home a record $1.27 billion for 2022', 'Bing vs chrome', 'Big Money Trying to Suppress $BABA Despite Turnaround and Solid Earnings Beat', '2-24-23 Inflation Commentary', 'Cathie Wood Continues Coinbase Buying', 'Any good European indexs I can use to follow the EUs financial status?', 'Best online broker when I buy shares, to have them in my name!', 'Q3-Q4 Blood Bath? How to play stock Armageddon?', 'Fed Terminal Rate']\n"
     ]
    }
   ],
   "source": [
    "browser = wb.Chrome()\n",
    "browser.get(url)\n",
    "browser.maximize_window()\n",
    "browser.execute_script(\"window.scrollTo(0, 800)\")\n",
    "head_three = browser.find_elements(By.TAG_NAME, 'h3')\n",
    "title_three = []\n",
    "for i in range(len(head_three)):\n",
    "     title_three.append(head_three[i].text)\n",
    "print(title_three)"
   ]
  },
  {
   "cell_type": "code",
   "execution_count": 10,
   "id": "ad4489ea",
   "metadata": {},
   "outputs": [
    {
     "name": "stdout",
     "output_type": "stream",
     "text": [
      "['', '', '', '', '', '', '', '', '', '', '', '', '', '', '', '', '', '', '', '', '', '', '', '', '', '', '', '', '', '', '', '', '', '', '', '', '', '', '', '', '', '', '', '', '', '', '', '', '', '', '', '', '', '', '', '', '', '', '', '', '', '', '', '', '', '', '', '', '', '', '', '', '', '', '', '', '', '', '', '', '', '', '', '', '', '', '', '', '', '', '', '', '', '', '', '', '', '', '', '', '', '', '', '', '', '', '', '', '', '', '', '', '', '', '', '', '', '', '', '', '', '', '', '', '', '', '', '', '', '', '', '', '', '', '', '', '', '', '', '', '', '', '', '', '', '', '', '', '', '', '', '', '', '', '', '', '', '', '', '', '', '', '', '', '', '', '', '', '', '', '', '', '', '', '', '', '', '', '', '', '', '', '', '', '', '', '', '', '', '', '', '', '', '', '', '', '', '', '', '', '', '', '', '', '', '', '', '', '', '', '', '', '', '', '', '', '', '', '', '', '', 'How to protect portfolio against a US debt default (or a near default)?', 'Jerome Powell Has Policy Errored For The 2nd Time', 'I feel so dumb but help me with this.', 'Options Charts?', 'The CPI going down was a lie to recruit retail bagholders...', 'JWN stay away from RC P&D', 'LYFT Purchase with Covered Call - Bad Idea?', 'What are the drawbacks of having a funded/prop account?', 'Fiancé isn’t into my gambling lifestyle, need advice.', \"AI isn't going to do dickshit.\", 'Short Mercedes', 'Gimme ur nuts (but mostly your pistachios)', 'Next week Earnings on $CSCO', 'Nasdaq (QQQ) going to drop bigly in the coming week(s)', 'CPI is going up for January (14 Feb 2023)', 'Could China reopening be similar to America reopening?', 'sell short on Dinsey?', 'Frontier (ULCC) - Earnings Report Postmortem', 'what is the best way to bet through options or futures, that the 30 year Treasury yield will pay much higher todays rate due Inflation', 'The faith is still there! Tesla has \"doubled.', 'What happened to my F long calls?', 'Thoughts on $AI (C3.AI)?', 'Degens never learn', 'LUMN - is it REALLY worth only $4 a share?', 'How does buying to close options REALLY work on the back end?']\n"
     ]
    }
   ],
   "source": [
    "browser = wb.Chrome()\n",
    "browser.get(url)\n",
    "browser.maximize_window()\n",
    "\n",
    "SCROLL_PAUSE_TIME = 5\n",
    "\n",
    "last_height = browser.execute_script(\"return document.body.scrollHeight\")\n",
    "\n",
    "while True:\n",
    "    browser.execute_script(\"window.scrollTo(0, document.body.scrollHeight);\")\n",
    "    time.sleep(SCROLL_PAUSE_TIME)\n",
    "    new_height = browser.execute_script(\"return document.body.scrollHeight\")\n",
    "    if new_height == last_height:\n",
    "        break\n",
    "    last_height = new_height\n",
    "head_four = browser.find_elements(By.TAG_NAME, 'h3')\n",
    "title_four = []\n",
    "for i in range(len(head_four)):\n",
    "     title_four.append(head_four[i].text)\n",
    "print(title_four)"
   ]
  },
  {
   "cell_type": "code",
   "execution_count": 11,
   "id": "c0ee0dc3",
   "metadata": {},
   "outputs": [
    {
     "data": {
      "text/plain": [
       "list"
      ]
     },
     "execution_count": 11,
     "metadata": {},
     "output_type": "execute_result"
    }
   ],
   "source": [
    "type(head_four)"
   ]
  },
  {
   "cell_type": "code",
   "execution_count": 19,
   "id": "9ea795f7",
   "metadata": {},
   "outputs": [
    {
     "data": {
      "text/plain": [
       "['How to protect portfolio against a US debt default (or a near default)?',\n",
       " 'Jerome Powell Has Policy Errored For The 2nd Time',\n",
       " 'I feel so dumb but help me with this.',\n",
       " 'Options Charts?',\n",
       " 'The CPI going down was a lie to recruit retail bagholders...',\n",
       " 'JWN stay away from RC P&D',\n",
       " 'LYFT Purchase with Covered Call - Bad Idea?',\n",
       " 'What are the drawbacks of having a funded/prop account?',\n",
       " 'Fiancé isn’t into my gambling lifestyle, need advice.',\n",
       " \"AI isn't going to do dickshit.\",\n",
       " 'Short Mercedes',\n",
       " 'Gimme ur nuts (but mostly your pistachios)',\n",
       " 'Next week Earnings on $CSCO',\n",
       " 'Nasdaq (QQQ) going to drop bigly in the coming week(s)',\n",
       " 'CPI is going up for January (14 Feb 2023)',\n",
       " 'Could China reopening be similar to America reopening?',\n",
       " 'sell short on Dinsey?',\n",
       " 'Frontier (ULCC) - Earnings Report Postmortem',\n",
       " 'what is the best way to bet through options or futures, that the 30 year Treasury yield will pay much higher todays rate due Inflation',\n",
       " 'The faith is still there! Tesla has \"doubled.',\n",
       " 'What happened to my F long calls?',\n",
       " 'Thoughts on $AI (C3.AI)?',\n",
       " 'Degens never learn',\n",
       " 'LUMN - is it REALLY worth only $4 a share?',\n",
       " 'How does buying to close options REALLY work on the back end?']"
      ]
     },
     "execution_count": 19,
     "metadata": {},
     "output_type": "execute_result"
    }
   ],
   "source": [
    "#filter empty list\n",
    "title_four = list(filter(None, title_four))\n",
    "title_four"
   ]
  },
  {
   "cell_type": "code",
   "execution_count": 22,
   "id": "603063d8",
   "metadata": {},
   "outputs": [],
   "source": [
    "postnews = title_one + title_two + title_three + title_four"
   ]
  },
  {
   "cell_type": "code",
   "execution_count": 23,
   "id": "df4af7fc",
   "metadata": {},
   "outputs": [
    {
     "name": "stdout",
     "output_type": "stream",
     "text": [
      "['Tipping point of a bull market or the next collapse?', 'Can someone explain this to me about Ameritrade?', 'Puts on GOOG after MSFT takes over their search monopoly?', 'All these recent comparisons to historic charts and other data on recessions and crashes - something more puzzling sticks out to me…', 'EU energy gem for those playing also outside from US. Let’s discuss it.', 'Bankrupt Companies', 'Start of the soft landing?', 'Tax offset on paid dividends', \"What TLT Won't Do – Probably\", 'What are your opinions on whether the US will have a recession or not?', 'What Happens From Here?', \"Wendy's Earnings\", 'His or her', 'Dicks Sporting Goods Earning report on 3/6/23', 'Housing Price Go Up Long Term (30+ years) - This Time is NOT Different.', 'A query regarding East Asian stock markets.', 'Well, at least 2022 was good to someone: Chief Executive Officer Steve Schwarzman took home a record $1.27 billion for 2022', 'Bing vs chrome', 'Big Money Trying to Suppress $BABA Despite Turnaround and Solid Earnings Beat', '2-24-23 Inflation Commentary', 'Puts on GOOG after MSFT takes over their search monopoly?', 'All these recent comparisons to historic charts and other data on recessions and crashes - something more puzzling sticks out to me…', 'EU energy gem for those playing also outside from US. Let’s discuss it.', 'Bankrupt Companies', 'Start of the soft landing?', 'Tax offset on paid dividends', \"What TLT Won't Do – Probably\", 'What are your opinions on whether the US will have a recession or not?', 'What Happens From Here?', \"Wendy's Earnings\", 'His or her', 'Dicks Sporting Goods Earning report on 3/6/23', 'Housing Price Go Up Long Term (30+ years) - This Time is NOT Different.', 'A query regarding East Asian stock markets.', 'Well, at least 2022 was good to someone: Chief Executive Officer Steve Schwarzman took home a record $1.27 billion for 2022', 'Bing vs chrome', 'Big Money Trying to Suppress $BABA Despite Turnaround and Solid Earnings Beat', '2-24-23 Inflation Commentary', 'Cathie Wood Continues Coinbase Buying', 'Any good European indexs I can use to follow the EUs financial status?', 'Best online broker when I buy shares, to have them in my name!', 'Q3-Q4 Blood Bath? How to play stock Armageddon?', 'Fed Terminal Rate', 'Tipping point of a bull market or the next collapse?', 'Can someone explain this to me about Ameritrade?', 'Puts on GOOG after MSFT takes over their search monopoly?', 'All these recent comparisons to historic charts and other data on recessions and crashes - something more puzzling sticks out to me…', 'EU energy gem for those playing also outside from US. Let’s discuss it.', 'Bankrupt Companies', 'Start of the soft landing?', 'Tax offset on paid dividends', \"What TLT Won't Do – Probably\", 'What are your opinions on whether the US will have a recession or not?', 'What Happens From Here?', \"Wendy's Earnings\", 'His or her', 'Dicks Sporting Goods Earning report on 3/6/23', 'Housing Price Go Up Long Term (30+ years) - This Time is NOT Different.', 'A query regarding East Asian stock markets.', 'Well, at least 2022 was good to someone: Chief Executive Officer Steve Schwarzman took home a record $1.27 billion for 2022', 'Bing vs chrome', 'Big Money Trying to Suppress $BABA Despite Turnaround and Solid Earnings Beat', '2-24-23 Inflation Commentary', 'Cathie Wood Continues Coinbase Buying', 'Any good European indexs I can use to follow the EUs financial status?', 'Best online broker when I buy shares, to have them in my name!', 'Q3-Q4 Blood Bath? How to play stock Armageddon?', 'Fed Terminal Rate', 'How to protect portfolio against a US debt default (or a near default)?', 'Jerome Powell Has Policy Errored For The 2nd Time', 'I feel so dumb but help me with this.', 'Options Charts?', 'The CPI going down was a lie to recruit retail bagholders...', 'JWN stay away from RC P&D', 'LYFT Purchase with Covered Call - Bad Idea?', 'What are the drawbacks of having a funded/prop account?', 'Fiancé isn’t into my gambling lifestyle, need advice.', \"AI isn't going to do dickshit.\", 'Short Mercedes', 'Gimme ur nuts (but mostly your pistachios)', 'Next week Earnings on $CSCO', 'Nasdaq (QQQ) going to drop bigly in the coming week(s)', 'CPI is going up for January (14 Feb 2023)', 'Could China reopening be similar to America reopening?', 'sell short on Dinsey?', 'Frontier (ULCC) - Earnings Report Postmortem', 'what is the best way to bet through options or futures, that the 30 year Treasury yield will pay much higher todays rate due Inflation', 'The faith is still there! Tesla has \"doubled.', 'What happened to my F long calls?', 'Thoughts on $AI (C3.AI)?', 'Degens never learn', 'LUMN - is it REALLY worth only $4 a share?', 'How does buying to close options REALLY work on the back end?']\n"
     ]
    }
   ],
   "source": [
    "print(postnews)"
   ]
  },
  {
   "cell_type": "code",
   "execution_count": null,
   "id": "c3e2f7d1",
   "metadata": {},
   "outputs": [],
   "source": []
  }
 ],
 "metadata": {
  "kernelspec": {
   "display_name": "Python 3 (ipykernel)",
   "language": "python",
   "name": "python3"
  },
  "language_info": {
   "codemirror_mode": {
    "name": "ipython",
    "version": 3
   },
   "file_extension": ".py",
   "mimetype": "text/x-python",
   "name": "python",
   "nbconvert_exporter": "python",
   "pygments_lexer": "ipython3",
   "version": "3.9.13"
  }
 },
 "nbformat": 4,
 "nbformat_minor": 5
}
